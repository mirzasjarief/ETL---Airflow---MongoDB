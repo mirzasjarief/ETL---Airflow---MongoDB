{
 "cells": [
  {
   "cell_type": "code",
   "execution_count": 4,
   "metadata": {},
   "outputs": [
    {
     "data": {
      "text/plain": [
       "'\\n=================================================\\nMilestone 3\\n\\nNama  : Mirza Rendra Sjarief\\nBatch : CODA-001-RMT\\n\\nProgram ini dibuat untuk melakukan automasi validator dengan Great Expectation, \\nmengacu pada dataset Us Store Sales selama periode tahun 2010 - 2011 yang sudah melalui proses transform menggunakan PysPark.\\nSerta menentukan nama aturan validasi yang akan diterapkan pada data.\\n=================================================\\n'"
      ]
     },
     "execution_count": 4,
     "metadata": {},
     "output_type": "execute_result"
    }
   ],
   "source": [
    "'''\n",
    "=================================================\n",
    "Milestone 3\n",
    "\n",
    "Nama  : Mirza Rendra Sjarief\n",
    "Batch : CODA-001-RMT\n",
    "\n",
    "Program ini dibuat untuk melakukan automasi validator dengan Great Expectation, \n",
    "mengacu pada dataset Us Store Sales selama periode tahun 2010 - 2011 yang sudah melalui proses transform menggunakan PysPark.\n",
    "Serta menentukan nama aturan validasi yang akan diterapkan pada data.\n",
    "=================================================\n",
    "'''"
   ]
  },
  {
   "cell_type": "markdown",
   "metadata": {},
   "source": [
    "## Data Validation With Great Expectation"
   ]
  },
  {
   "cell_type": "code",
   "execution_count": 3,
   "metadata": {},
   "outputs": [
    {
     "name": "stderr",
     "output_type": "stream",
     "text": [
      "/opt/miniconda3/envs/friday/lib/python3.12/pty.py:95: DeprecationWarning: This process (pid=30018) is multi-threaded, use of forkpty() may lead to deadlocks in the child.\n",
      "  pid, fd = os.forkpty()\n"
     ]
    }
   ],
   "source": [
    "!pip install -q \"great-expectations==0.18.19\""
   ]
  },
  {
   "cell_type": "code",
   "execution_count": 1,
   "metadata": {},
   "outputs": [],
   "source": [
    "# import the necessary libraries \n",
    "\n",
    "from great_expectations.data_context import FileDataContext\n",
    "# Create a data context\n",
    "\n",
    "context = FileDataContext.create(project_root_dir='./')"
   ]
  },
  {
   "cell_type": "markdown",
   "metadata": {},
   "source": [
    "\n",
    "- Mengimport FileDataContext, yaitu interface utama untuk mengelola konfigurasi, data, dan validasi menggunakan Great Expectations.\n",
    "\n",
    "- Membuat context Great Expectations baru di lokasi direktori kerja saat ini."
   ]
  },
  {
   "cell_type": "code",
   "execution_count": 2,
   "metadata": {},
   "outputs": [],
   "source": [
    "# Give a name to a Datasource. This name must be unique between Datasources.\n",
    "datasource_name = 'csv-us-store-sales'\n",
    "datasource = context.sources.add_pandas(datasource_name)\n",
    "\n",
    "# Give a name to a data asset\n",
    "asset_name = 'store-sales-2010-2011'\n",
    "path_to_data = '/Users/mac/Documents/Hacktiv8/M3/p2-coda001-rmt-m3-mirzasjarief/P2M3_Mirza_Sjarief_data_clean.csv'\n",
    "asset = datasource.add_csv_asset(asset_name, filepath_or_buffer=path_to_data)\n",
    "\n",
    "# Build batch request\n",
    "batch_request = asset.build_batch_request()"
   ]
  },
  {
   "cell_type": "markdown",
   "metadata": {},
   "source": [
    "- asset_name adalah nama unik untuk aset data yang didefinisikan di dalam Datasource.\n",
    "- path_to_data adalah path ke file CSV (sale_clean.csv) yang akan digunakan sebagai sumber data.\n",
    "- add_csv_asset menghubungkan file CSV ke Datasource Pandas yang telah didefinisikan.\n",
    "- Batch Request adalah cara Great Expectations memuat data tertentu dari aset data, dalam konteks ini, semua data dari file CSV akan dimuat untuk divalidasi."
   ]
  },
  {
   "cell_type": "code",
   "execution_count": 3,
   "metadata": {},
   "outputs": [
    {
     "data": {
      "application/vnd.jupyter.widget-view+json": {
       "model_id": "27ca7fc8ca9b4361883b55a9739ef0d8",
       "version_major": 2,
       "version_minor": 0
      },
      "text/plain": [
       "Calculating Metrics:   0%|          | 0/1 [00:00<?, ?it/s]"
      ]
     },
     "metadata": {},
     "output_type": "display_data"
    },
    {
     "data": {
      "text/html": [
       "<div>\n",
       "<style scoped>\n",
       "    .dataframe tbody tr th:only-of-type {\n",
       "        vertical-align: middle;\n",
       "    }\n",
       "\n",
       "    .dataframe tbody tr th {\n",
       "        vertical-align: top;\n",
       "    }\n",
       "\n",
       "    .dataframe thead th {\n",
       "        text-align: right;\n",
       "    }\n",
       "</style>\n",
       "<table border=\"1\" class=\"dataframe\">\n",
       "  <thead>\n",
       "    <tr style=\"text-align: right;\">\n",
       "      <th></th>\n",
       "      <th>state</th>\n",
       "      <th>market</th>\n",
       "      <th>market_size</th>\n",
       "      <th>sales</th>\n",
       "      <th>cogs</th>\n",
       "      <th>total_expenses</th>\n",
       "      <th>marketing</th>\n",
       "      <th>inventory</th>\n",
       "      <th>budget_profit</th>\n",
       "      <th>budget_cogs</th>\n",
       "      <th>budget_margin</th>\n",
       "      <th>budget_sales</th>\n",
       "      <th>product_id</th>\n",
       "      <th>date</th>\n",
       "      <th>product_type</th>\n",
       "      <th>type</th>\n",
       "      <th>purchased_id</th>\n",
       "    </tr>\n",
       "  </thead>\n",
       "  <tbody>\n",
       "    <tr>\n",
       "      <th>0</th>\n",
       "      <td>connecticut</td>\n",
       "      <td>east</td>\n",
       "      <td>small market</td>\n",
       "      <td>292.0</td>\n",
       "      <td>116.0</td>\n",
       "      <td>69.0</td>\n",
       "      <td>38.0</td>\n",
       "      <td>962.0</td>\n",
       "      <td>110.0</td>\n",
       "      <td>110.0</td>\n",
       "      <td>160.0</td>\n",
       "      <td>270.0</td>\n",
       "      <td>2</td>\n",
       "      <td>2010-01-04</td>\n",
       "      <td>coffee</td>\n",
       "      <td>regular</td>\n",
       "      <td>491458380</td>\n",
       "    </tr>\n",
       "    <tr>\n",
       "      <th>1</th>\n",
       "      <td>connecticut</td>\n",
       "      <td>east</td>\n",
       "      <td>small market</td>\n",
       "      <td>225.0</td>\n",
       "      <td>90.0</td>\n",
       "      <td>60.0</td>\n",
       "      <td>29.0</td>\n",
       "      <td>1148.0</td>\n",
       "      <td>90.0</td>\n",
       "      <td>80.0</td>\n",
       "      <td>130.0</td>\n",
       "      <td>210.0</td>\n",
       "      <td>2</td>\n",
       "      <td>2010-01-07</td>\n",
       "      <td>coffee</td>\n",
       "      <td>regular</td>\n",
       "      <td>1738729669</td>\n",
       "    </tr>\n",
       "    <tr>\n",
       "      <th>2</th>\n",
       "      <td>connecticut</td>\n",
       "      <td>east</td>\n",
       "      <td>small market</td>\n",
       "      <td>325.0</td>\n",
       "      <td>130.0</td>\n",
       "      <td>73.0</td>\n",
       "      <td>42.0</td>\n",
       "      <td>1134.0</td>\n",
       "      <td>130.0</td>\n",
       "      <td>110.0</td>\n",
       "      <td>180.0</td>\n",
       "      <td>290.0</td>\n",
       "      <td>2</td>\n",
       "      <td>2010-01-11</td>\n",
       "      <td>coffee</td>\n",
       "      <td>regular</td>\n",
       "      <td>1041025097</td>\n",
       "    </tr>\n",
       "    <tr>\n",
       "      <th>3</th>\n",
       "      <td>connecticut</td>\n",
       "      <td>east</td>\n",
       "      <td>small market</td>\n",
       "      <td>289.0</td>\n",
       "      <td>115.0</td>\n",
       "      <td>69.0</td>\n",
       "      <td>37.0</td>\n",
       "      <td>1166.0</td>\n",
       "      <td>110.0</td>\n",
       "      <td>100.0</td>\n",
       "      <td>160.0</td>\n",
       "      <td>260.0</td>\n",
       "      <td>2</td>\n",
       "      <td>2010-01-12</td>\n",
       "      <td>coffee</td>\n",
       "      <td>regular</td>\n",
       "      <td>366943985</td>\n",
       "    </tr>\n",
       "    <tr>\n",
       "      <th>4</th>\n",
       "      <td>connecticut</td>\n",
       "      <td>east</td>\n",
       "      <td>small market</td>\n",
       "      <td>223.0</td>\n",
       "      <td>90.0</td>\n",
       "      <td>56.0</td>\n",
       "      <td>29.0</td>\n",
       "      <td>1148.0</td>\n",
       "      <td>90.0</td>\n",
       "      <td>80.0</td>\n",
       "      <td>130.0</td>\n",
       "      <td>210.0</td>\n",
       "      <td>2</td>\n",
       "      <td>2011-01-07</td>\n",
       "      <td>coffee</td>\n",
       "      <td>regular</td>\n",
       "      <td>1130897045</td>\n",
       "    </tr>\n",
       "  </tbody>\n",
       "</table>\n",
       "</div>"
      ],
      "text/plain": [
       "         state market   market_size  sales   cogs  total_expenses  marketing  \\\n",
       "0  connecticut   east  small market  292.0  116.0            69.0       38.0   \n",
       "1  connecticut   east  small market  225.0   90.0            60.0       29.0   \n",
       "2  connecticut   east  small market  325.0  130.0            73.0       42.0   \n",
       "3  connecticut   east  small market  289.0  115.0            69.0       37.0   \n",
       "4  connecticut   east  small market  223.0   90.0            56.0       29.0   \n",
       "\n",
       "   inventory  budget_profit  budget_cogs  budget_margin  budget_sales  \\\n",
       "0      962.0          110.0        110.0          160.0         270.0   \n",
       "1     1148.0           90.0         80.0          130.0         210.0   \n",
       "2     1134.0          130.0        110.0          180.0         290.0   \n",
       "3     1166.0          110.0        100.0          160.0         260.0   \n",
       "4     1148.0           90.0         80.0          130.0         210.0   \n",
       "\n",
       "   product_id        date product_type     type  purchased_id  \n",
       "0           2  2010-01-04       coffee  regular     491458380  \n",
       "1           2  2010-01-07       coffee  regular    1738729669  \n",
       "2           2  2010-01-11       coffee  regular    1041025097  \n",
       "3           2  2010-01-12       coffee  regular     366943985  \n",
       "4           2  2011-01-07       coffee  regular    1130897045  "
      ]
     },
     "execution_count": 3,
     "metadata": {},
     "output_type": "execute_result"
    }
   ],
   "source": [
    "# Creat an expectation suite\n",
    "expectation_suite_name = 'expectation-sales'\n",
    "context.add_or_update_expectation_suite(expectation_suite_name)\n",
    "\n",
    "# Create a validator using above expectation suite\n",
    "validator = context.get_validator(\n",
    "    batch_request = batch_request,\n",
    "    expectation_suite_name = expectation_suite_name\n",
    ")\n",
    "\n",
    "# Check the validator\n",
    "validator.head()"
   ]
  },
  {
   "cell_type": "markdown",
   "metadata": {},
   "source": [
    "- Expectation Suite adalah kumpulan aturan (expectations) yang mendefinisikan standar kualitas data. Contohnya: kolom tidak boleh memiliki nilai null, rentang nilai tertentu, atau format tertentu.\n",
    "\n",
    "- Membuat Validator untuk menggabungkan data (Batch) dengan Expectation Suite, mengacu pada data yang ingin divalidasi (yang telah dibuat sebelumnya).Serta menentukan nama aturan validasi yang akan diterapkan pada data.\n",
    "\n",
    "- Melihat beberapa baris pertama data yang dimuat ke dalam validator."
   ]
  },
  {
   "cell_type": "code",
   "execution_count": 4,
   "metadata": {},
   "outputs": [
    {
     "data": {
      "application/vnd.jupyter.widget-view+json": {
       "model_id": "d70aab7ec2714e49822c904ac60ec96e",
       "version_major": 2,
       "version_minor": 0
      },
      "text/plain": [
       "Calculating Metrics:   0%|          | 0/8 [00:00<?, ?it/s]"
      ]
     },
     "metadata": {},
     "output_type": "display_data"
    },
    {
     "data": {
      "text/plain": [
       "{\n",
       "  \"success\": true,\n",
       "  \"result\": {\n",
       "    \"element_count\": 4248,\n",
       "    \"unexpected_count\": 0,\n",
       "    \"unexpected_percent\": 0.0,\n",
       "    \"partial_unexpected_list\": [],\n",
       "    \"missing_count\": 0,\n",
       "    \"missing_percent\": 0.0,\n",
       "    \"unexpected_percent_total\": 0.0,\n",
       "    \"unexpected_percent_nonmissing\": 0.0\n",
       "  },\n",
       "  \"meta\": {},\n",
       "  \"exception_info\": {\n",
       "    \"raised_exception\": false,\n",
       "    \"exception_traceback\": null,\n",
       "    \"exception_message\": null\n",
       "  }\n",
       "}"
      ]
     },
     "execution_count": 4,
     "metadata": {},
     "output_type": "execute_result"
    }
   ],
   "source": [
    "# Expectation 1 : Column `purchased_id` must be unique\n",
    "\n",
    "validator.expect_column_values_to_be_unique('purchased_id')"
   ]
  },
  {
   "cell_type": "markdown",
   "metadata": {},
   "source": [
    "- Expectation 1 : Column **purchased_id** harus memiliki unique value\n"
   ]
  },
  {
   "cell_type": "code",
   "execution_count": 37,
   "metadata": {},
   "outputs": [
    {
     "data": {
      "application/vnd.jupyter.widget-view+json": {
       "model_id": "36a5b21515fd4ed4849e7f1faf92d6f9",
       "version_major": 2,
       "version_minor": 0
      },
      "text/plain": [
       "Calculating Metrics:   0%|          | 0/8 [00:00<?, ?it/s]"
      ]
     },
     "metadata": {},
     "output_type": "display_data"
    },
    {
     "data": {
      "text/plain": [
       "{\n",
       "  \"success\": true,\n",
       "  \"result\": {\n",
       "    \"element_count\": 4248,\n",
       "    \"unexpected_count\": 0,\n",
       "    \"unexpected_percent\": 0.0,\n",
       "    \"partial_unexpected_list\": [],\n",
       "    \"missing_count\": 0,\n",
       "    \"missing_percent\": 0.0,\n",
       "    \"unexpected_percent_total\": 0.0,\n",
       "    \"unexpected_percent_nonmissing\": 0.0\n",
       "  },\n",
       "  \"meta\": {},\n",
       "  \"exception_info\": {\n",
       "    \"raised_exception\": false,\n",
       "    \"exception_traceback\": null,\n",
       "    \"exception_message\": null\n",
       "  }\n",
       "}"
      ]
     },
     "execution_count": 37,
     "metadata": {},
     "output_type": "execute_result"
    }
   ],
   "source": [
    "# Expectation 2: Column `inventory` must contain minimum and max value between : 0 - 8252\n",
    "\n",
    "validator.expect_column_values_to_be_between(\n",
    "    column='inventory', min_value=0, max_value=8252\n",
    ")"
   ]
  },
  {
   "cell_type": "markdown",
   "metadata": {},
   "source": [
    "- Expectation 2 : Column **inventory** harus memiliki value diantara min 0 dan max 8252\n"
   ]
  },
  {
   "cell_type": "code",
   "execution_count": 38,
   "metadata": {},
   "outputs": [
    {
     "data": {
      "application/vnd.jupyter.widget-view+json": {
       "model_id": "3345b7fb278648c3a4240d76916e917b",
       "version_major": 2,
       "version_minor": 0
      },
      "text/plain": [
       "Calculating Metrics:   0%|          | 0/8 [00:00<?, ?it/s]"
      ]
     },
     "metadata": {},
     "output_type": "display_data"
    },
    {
     "data": {
      "text/plain": [
       "{\n",
       "  \"success\": true,\n",
       "  \"result\": {\n",
       "    \"element_count\": 4248,\n",
       "    \"unexpected_count\": 0,\n",
       "    \"unexpected_percent\": 0.0,\n",
       "    \"partial_unexpected_list\": [],\n",
       "    \"missing_count\": 0,\n",
       "    \"missing_percent\": 0.0,\n",
       "    \"unexpected_percent_total\": 0.0,\n",
       "    \"unexpected_percent_nonmissing\": 0.0\n",
       "  },\n",
       "  \"meta\": {},\n",
       "  \"exception_info\": {\n",
       "    \"raised_exception\": false,\n",
       "    \"exception_traceback\": null,\n",
       "    \"exception_message\": null\n",
       "  }\n",
       "}"
      ]
     },
     "execution_count": 38,
     "metadata": {},
     "output_type": "execute_result"
    }
   ],
   "source": [
    "# Expectation 3 : Column `product_type` must contain one of the following 5 things :\n",
    "# 1 = coffee\n",
    "# 2 = tea\n",
    "# 3 = espresso\n",
    "# 4 = herbal\n",
    "# 5 = tea\n",
    "\n",
    "\n",
    "validator.expect_column_values_to_be_in_set('product_type', ['coffee','tea','espresso','herbal tea'])"
   ]
  },
  {
   "cell_type": "markdown",
   "metadata": {},
   "source": [
    "- Expectation 3 : Column **product_type** harus terdiri dari 5 kategori barang ini : 1 = coffee, 2 = tea, 3 = espresso, 4 = herbal, 5 = tea\n"
   ]
  },
  {
   "cell_type": "code",
   "execution_count": 39,
   "metadata": {},
   "outputs": [
    {
     "data": {
      "application/vnd.jupyter.widget-view+json": {
       "model_id": "2e2ca242b1634cdbaa04b37bd2e4f3b2",
       "version_major": 2,
       "version_minor": 0
      },
      "text/plain": [
       "Calculating Metrics:   0%|          | 0/1 [00:00<?, ?it/s]"
      ]
     },
     "metadata": {},
     "output_type": "display_data"
    },
    {
     "data": {
      "text/plain": [
       "{\n",
       "  \"success\": true,\n",
       "  \"result\": {\n",
       "    \"observed_value\": \"float64\"\n",
       "  },\n",
       "  \"meta\": {},\n",
       "  \"exception_info\": {\n",
       "    \"raised_exception\": false,\n",
       "    \"exception_traceback\": null,\n",
       "    \"exception_message\": null\n",
       "  }\n",
       "}"
      ]
     },
     "execution_count": 39,
     "metadata": {},
     "output_type": "execute_result"
    }
   ],
   "source": [
    "# Expectation 4 : Column `inventory` must in form of integer or float\n",
    "\n",
    "validator.expect_column_values_to_be_in_type_list('inventory', ['integer', 'float'])"
   ]
  },
  {
   "cell_type": "markdown",
   "metadata": {},
   "source": [
    "- Expectation 4 : Column **inventory** harus memiliki tipe data integer atau folat\n"
   ]
  },
  {
   "cell_type": "code",
   "execution_count": 40,
   "metadata": {},
   "outputs": [
    {
     "data": {
      "application/vnd.jupyter.widget-view+json": {
       "model_id": "a7bf39aee5e6498b86315bae72556773",
       "version_major": 2,
       "version_minor": 0
      },
      "text/plain": [
       "Calculating Metrics:   0%|          | 0/7 [00:00<?, ?it/s]"
      ]
     },
     "metadata": {},
     "output_type": "display_data"
    },
    {
     "data": {
      "text/plain": [
       "{\n",
       "  \"success\": true,\n",
       "  \"result\": {\n",
       "    \"observed_value\": 0.004708097928436911\n",
       "  },\n",
       "  \"meta\": {},\n",
       "  \"exception_info\": {\n",
       "    \"raised_exception\": false,\n",
       "    \"exception_traceback\": null,\n",
       "    \"exception_message\": null\n",
       "  }\n",
       "}"
      ]
     },
     "execution_count": 40,
     "metadata": {},
     "output_type": "execute_result"
    }
   ],
   "source": [
    "# Expectation 5 : Column `state` must contain proportion of unique value between 0 - 20 :\n",
    "\n",
    "validator.expect_column_proportion_of_unique_values_to_be_between(\n",
    "    column='state', min_value=0, max_value=20\n",
    ")"
   ]
  },
  {
   "cell_type": "markdown",
   "metadata": {},
   "source": [
    "- Expectation 5 : Column **state** harus memiliki proporsi unique value sebanyak 0 hingga 20"
   ]
  },
  {
   "cell_type": "code",
   "execution_count": 41,
   "metadata": {},
   "outputs": [
    {
     "data": {
      "application/vnd.jupyter.widget-view+json": {
       "model_id": "da4ee443e9644f7c99f6e201baeb6c81",
       "version_major": 2,
       "version_minor": 0
      },
      "text/plain": [
       "Calculating Metrics:   0%|          | 0/4 [00:00<?, ?it/s]"
      ]
     },
     "metadata": {},
     "output_type": "display_data"
    },
    {
     "data": {
      "text/plain": [
       "{\n",
       "  \"success\": true,\n",
       "  \"result\": {\n",
       "    \"observed_value\": 151.13312713911552\n",
       "  },\n",
       "  \"meta\": {},\n",
       "  \"exception_info\": {\n",
       "    \"raised_exception\": false,\n",
       "    \"exception_traceback\": null,\n",
       "    \"exception_message\": null\n",
       "  }\n",
       "}"
      ]
     },
     "execution_count": 41,
     "metadata": {},
     "output_type": "execute_result"
    }
   ],
   "source": [
    "# Expectation 6 : Column `sales` must contain std devation between : 150$ - 200$\n",
    "\n",
    "\n",
    "validator.expect_column_stdev_to_be_between(\n",
    "    column='sales', min_value=151, max_value=200\n",
    ")"
   ]
  },
  {
   "cell_type": "markdown",
   "metadata": {},
   "source": [
    "- Expectation 6 : Column **sales** harus memiliki std deviation diantara 150$ - 200$"
   ]
  },
  {
   "cell_type": "code",
   "execution_count": 42,
   "metadata": {},
   "outputs": [
    {
     "data": {
      "application/vnd.jupyter.widget-view+json": {
       "model_id": "02e123cfe4e44419b58a3ba9d4bb19cd",
       "version_major": 2,
       "version_minor": 0
      },
      "text/plain": [
       "Calculating Metrics:   0%|          | 0/3 [00:00<?, ?it/s]"
      ]
     },
     "metadata": {},
     "output_type": "display_data"
    },
    {
     "data": {
      "text/plain": [
       "{\n",
       "  \"success\": true,\n",
       "  \"result\": {\n",
       "    \"observed_value\": 17\n",
       "  },\n",
       "  \"meta\": {},\n",
       "  \"exception_info\": {\n",
       "    \"raised_exception\": false,\n",
       "    \"exception_traceback\": null,\n",
       "    \"exception_message\": null\n",
       "  }\n",
       "}"
      ]
     },
     "execution_count": 42,
     "metadata": {},
     "output_type": "execute_result"
    }
   ],
   "source": [
    "# Expectation 7 : For consistency and validating after dropping or adding a new table , table must contain 17 columns\n",
    "\n",
    "validator.expect_table_column_count_to_equal (17)"
   ]
  },
  {
   "cell_type": "markdown",
   "metadata": {},
   "source": [
    "- Expectation 7 : Untuk memastikan konsistensi data, setelah adanya penghapusan dan penambahan column, total akhir column pada table ini haruslah memiliki total sebanyak 17 column."
   ]
  },
  {
   "cell_type": "code",
   "execution_count": 43,
   "metadata": {},
   "outputs": [],
   "source": [
    "# Save into Expectation Suite\n",
    "\n",
    "validator.save_expectation_suite(discard_failed_expectations=False)"
   ]
  },
  {
   "cell_type": "markdown",
   "metadata": {},
   "source": [
    "- Kode berikut digunakan untuk menyimpan Expectation Suite dalam proyek Great Expectations."
   ]
  },
  {
   "cell_type": "code",
   "execution_count": 44,
   "metadata": {},
   "outputs": [],
   "source": [
    "# Create a checkpoint\n",
    "\n",
    "checkpoint_1 = context.add_or_update_checkpoint(\n",
    "    name = 'checkpoint_1',\n",
    "    validator = validator,\n",
    ")"
   ]
  },
  {
   "cell_type": "markdown",
   "metadata": {},
   "source": [
    "- Code ini membuat atau memperbarui sebuah Checkpoint, juga menyimpan hasil validasi untuk ditinjau."
   ]
  },
  {
   "cell_type": "code",
   "execution_count": 45,
   "metadata": {},
   "outputs": [
    {
     "data": {
      "application/vnd.jupyter.widget-view+json": {
       "model_id": "966bc40e77484ad686063365a5f19d8f",
       "version_major": 2,
       "version_minor": 0
      },
      "text/plain": [
       "Calculating Metrics:   0%|          | 0/30 [00:00<?, ?it/s]"
      ]
     },
     "metadata": {},
     "output_type": "display_data"
    }
   ],
   "source": [
    "# Run a checkpoint\n",
    "\n",
    "checkpoint_result = checkpoint_1.run()"
   ]
  },
  {
   "cell_type": "markdown",
   "metadata": {},
   "source": [
    "- Menjalankan hasil checkpoint, hasil ini mencakup informasi penting tentang apakah data memenuhi aturan (expectations) yang telah ditentukan."
   ]
  }
 ],
 "metadata": {
  "kernelspec": {
   "display_name": "base",
   "language": "python",
   "name": "python3"
  },
  "language_info": {
   "codemirror_mode": {
    "name": "ipython",
    "version": 3
   },
   "file_extension": ".py",
   "mimetype": "text/x-python",
   "name": "python",
   "nbconvert_exporter": "python",
   "pygments_lexer": "ipython3",
   "version": "3.12.8"
  }
 },
 "nbformat": 4,
 "nbformat_minor": 2
}
